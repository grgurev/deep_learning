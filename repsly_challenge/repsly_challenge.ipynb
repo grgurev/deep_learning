{
 "cells": [
  {
   "cell_type": "markdown",
   "metadata": {
    "collapsed": true
   },
   "source": [
    "# Repsly trial data"
   ]
  },
  {
   "cell_type": "code",
   "execution_count": 1,
   "metadata": {},
   "outputs": [
    {
     "name": "stdout",
     "output_type": "stream",
     "text": [
      "Reading data (this might take a minute or so)...done.\n"
     ]
    }
   ],
   "source": [
    "from repsly_data import RepslyData\n",
    "\n",
    "repsly_data = RepslyData()\n",
    "print('Reading data (this might take a minute or so)...', end='')\n",
    "repsly_data.read_data('data/trial_users_analysis.csv', mode='FC')\n",
    "print('done.')"
   ]
  },
  {
   "cell_type": "markdown",
   "metadata": {},
   "source": [
    "\n",
    "Let's see what the data looks like:"
   ]
  },
  {
   "cell_type": "code",
   "execution_count": 2,
   "metadata": {},
   "outputs": [
    {
     "name": "stdout",
     "output_type": "stream",
     "text": [
      "X[20, 241]: [[ 153.    1.    1. ...,    0.    0.    0.]\n",
      " [ 224.    0.    0. ...,    0.    0.    0.]\n",
      " [  54.    0.    0. ...,    0.    0.    0.]\n",
      " ..., \n",
      " [ 185.    0.    0. ...,    0.    0.    0.]\n",
      " [  55.    0.    0. ...,    0.    0.    0.]\n",
      " [ 131.    0.    0. ...,    1.    5.    0.]]\n",
      "y: [0 0 0 0 0 0 0 1 1 0 0 0 0 0 0 0 0 0 0 0]\n"
     ]
    }
   ],
   "source": [
    "read_batch = repsly_data.read_batch(batch_size=20)\n",
    "\n",
    "X, y = next(read_batch)\n",
    "print('X{}: {}'.format(list(X.shape), X))\n",
    "print('y:', y)"
   ]
  },
  {
   "cell_type": "markdown",
   "metadata": {},
   "source": [
    "As you can see above, each input vector `X` has `1+15*16=241` values, most of which are zeros. The first one is the trial start date as offset from `2016-01-01` and the rest is different usage parameters for the following `16` days. Data provided by batch read is randomly shuffled. Output values are stored in `y` and they represent if the user purchased the Repsly service after the trial or not."
   ]
  },
  {
   "cell_type": "markdown",
   "metadata": {},
   "source": [
    "# Training"
   ]
  },
  {
   "cell_type": "markdown",
   "metadata": {},
   "source": [
    "First, we create a network with two fully connected hidden layers of size 250 and 50% dropout:"
   ]
  },
  {
   "cell_type": "code",
   "execution_count": null,
   "metadata": {
    "collapsed": true
   },
   "outputs": [],
   "source": [
    "from repsly_nn import RepslyFC\n",
    "\n",
    "repsly_nn = RepslyFC()"
   ]
  },
  {
   "cell_type": "markdown",
   "metadata": {},
   "source": [
    "Then we train it for some number of epochs. (NB. there is s bug with restoring checkpoint)"
   ]
  },
  {
   "cell_type": "code",
   "execution_count": null,
   "metadata": {},
   "outputs": [],
   "source": [
    "arch = [250, 250]\n",
    "keep_probs = [0.4, 0.5, 0.6, 0.7, 0.8, 0.9, 1.0]\n",
    "learning_rate = 0.001\n",
    "decay_steps=10\n",
    "decay_rate=0.99\n",
    "\n",
    "batch_size = 128\n",
    "epochs_loops = 1\n",
    "epochs_at_once = 20\n",
    "skip_steps=10\n",
    "\n",
    "for keep_prob in keep_probs:\n",
    "    arch_dict = {'keep_prob': keep_prob}\n",
    "    \n",
    "    repsly_nn.create_net(arch, arch_dict, learning_rate, decay_steps, decay_rate)\n",
    "    for i in range(epochs_loops):\n",
    "        print('Training for {} epochs...'.format(epochs_at_once))\n",
    "        repsly_nn.train(data=repsly_data, batch_size=batch_size, epochs=epochs_at_once, skip_steps=skip_steps)"
   ]
  },
  {
   "cell_type": "code",
   "execution_count": null,
   "metadata": {
    "collapsed": true
   },
   "outputs": [],
   "source": []
  }
 ],
 "metadata": {
  "kernelspec": {
   "display_name": "Python 3",
   "language": "python",
   "name": "python3"
  },
  "language_info": {
   "codemirror_mode": {
    "name": "ipython",
    "version": 3
   },
   "file_extension": ".py",
   "mimetype": "text/x-python",
   "name": "python",
   "nbconvert_exporter": "python",
   "pygments_lexer": "ipython3",
   "version": "3.6.1"
  }
 },
 "nbformat": 4,
 "nbformat_minor": 1
}
