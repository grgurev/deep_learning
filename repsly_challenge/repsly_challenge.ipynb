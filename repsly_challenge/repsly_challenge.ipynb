{
 "cells": [
  {
   "cell_type": "markdown",
   "metadata": {
    "collapsed": true
   },
   "source": [
    "# Repsly trial data"
   ]
  },
  {
   "cell_type": "code",
   "execution_count": 1,
   "metadata": {},
   "outputs": [
    {
     "name": "stdout",
     "output_type": "stream",
     "text": [
      "Reading data (this might take a minute or so)...done.\n"
     ]
    }
   ],
   "source": [
    "from repsly_data import RepslyData\n",
    "\n",
    "repsly_data = RepslyData()\n",
    "print('Reading data (this might take a minute or so)...', end='')\n",
    "repsly_data.read_data('data/trial_users_analysis.csv', mode='FC')\n",
    "print('done.')"
   ]
  },
  {
   "cell_type": "markdown",
   "metadata": {},
   "source": [
    "\n",
    "Let's see what the data looks like:"
   ]
  },
  {
   "cell_type": "code",
   "execution_count": 2,
   "metadata": {},
   "outputs": [
    {
     "name": "stdout",
     "output_type": "stream",
     "text": [
      "X[20, 241]: [[ 153.    1.    1. ...,    0.    0.    0.]\n",
      " [ 224.    0.    0. ...,    0.    0.    0.]\n",
      " [  54.    0.    0. ...,    0.    0.    0.]\n",
      " ..., \n",
      " [ 185.    0.    0. ...,    0.    0.    0.]\n",
      " [  55.    0.    0. ...,    0.    0.    0.]\n",
      " [ 131.    0.    0. ...,    1.    5.    0.]]\n",
      "y: [0 0 0 0 0 0 0 1 1 0 0 0 0 0 0 0 0 0 0 0]\n"
     ]
    }
   ],
   "source": [
    "read_batch = repsly_data.read_batch(batch_size=20)\n",
    "\n",
    "X, y = next(read_batch)\n",
    "print('X{}: {}'.format(list(X.shape), X))\n",
    "print('y:', y)"
   ]
  },
  {
   "cell_type": "markdown",
   "metadata": {},
   "source": [
    "As you can see above, each input vector `X` has `1+15*16=241` values, most of which are zeros. The first one is the trial start date as offset from `2016-01-01` and the rest is different usage parameters for the following `16` days. Data provided by batch read is randomly shuffled. Output values are stored in `y` and they represent if the user purchased the Repsly service after the trial or not."
   ]
  },
  {
   "cell_type": "markdown",
   "metadata": {},
   "source": [
    "# Training"
   ]
  },
  {
   "cell_type": "markdown",
   "metadata": {},
   "source": [
    "First, we create a network:"
   ]
  },
  {
   "cell_type": "code",
   "execution_count": 3,
   "metadata": {},
   "outputs": [],
   "source": [
    "from repsly_nn import RepslyFC\n",
    "\n",
    "repsly_nn = RepslyFC()\n",
    "\n",
    "arch = [100, 200]\n",
    "arch_dict = {'keep_prob': 0.7}\n",
    "repsly_nn.create_net(arch, arch_dict)"
   ]
  },
  {
   "cell_type": "markdown",
   "metadata": {},
   "source": [
    "And then we train it for one epoch."
   ]
  },
  {
   "cell_type": "code",
   "execution_count": 4,
   "metadata": {},
   "outputs": [
    {
     "name": "stdout",
     "output_type": "stream",
     "text": [
      "Training for one epoch...\n",
      "Checkpoint directory is: /Users/davor/PycharmProjects/deep_learning/repsly_challenge/checkpoints/RepslyFC-[100,200]/keep_prob-0.7/lr-0.001/dr-0.999/ds-20\n",
      "Creating tf.train.Saver()...done\n",
      "self.checkpoint_path: checkpoints/RepslyFC-[100,200]/keep_prob-0.7/lr-0.001/dr-0.999/ds-20\n",
      "ckpt: None\n",
      "[00000/1.7 sec]   train/validation loss = 3.68377/4.30155\n",
      "[00020/4.0 sec]   train/validation loss = 0.96413/5.53576\n",
      "[00040/6.5 sec]   train/validation loss = 0.60906/0.01058\n",
      "[00060/8.8 sec]   train/validation loss = 0.92490/0.70330\n",
      "[00080/10.8 sec]   train/validation loss = 0.00492/5.42241\n",
      "[00100/12.9 sec]   train/validation loss = 5.86104/1.03274\n",
      "[00120/14.3 sec]   train/validation loss = 2.42943/1.71400\n",
      "[00140/16.1 sec]   train/validation loss = 0.89884/1.02610\n",
      "[00160/17.6 sec]   train/validation loss = 3.65262/0.27851\n",
      "[00180/19.0 sec]   train/validation loss = 0.89011/0.42529\n",
      "[00200/20.5 sec]   train/validation loss = 0.18845/1.49120\n",
      "[00220/22.0 sec]   train/validation loss = 0.74001/1.96776\n",
      "[00240/23.3 sec]   train/validation loss = 0.02090/0.26163\n",
      "[00260/25.0 sec]   train/validation loss = 0.55661/0.32930\n",
      "[00280/26.4 sec]   train/validation loss = 0.48039/0.32170\n",
      "[00300/27.8 sec]   train/validation loss = 0.08263/0.40054\n",
      "[00320/29.3 sec]   train/validation loss = 0.83992/0.55223\n"
     ]
    }
   ],
   "source": [
    "batch_size = 16\n",
    "epochs = 1\n",
    "\n",
    "for i in range(epochs):\n",
    "    print('Training for one epoch...')\n",
    "    repsly_nn.train(data=repsly_data, batch_size=batch_size, epochs=1)"
   ]
  },
  {
   "cell_type": "code",
   "execution_count": null,
   "metadata": {
    "collapsed": true
   },
   "outputs": [],
   "source": []
  }
 ],
 "metadata": {
  "kernelspec": {
   "display_name": "Python 3",
   "language": "python",
   "name": "python3"
  },
  "language_info": {
   "codemirror_mode": {
    "name": "ipython",
    "version": 3
   },
   "file_extension": ".py",
   "mimetype": "text/x-python",
   "name": "python",
   "nbconvert_exporter": "python",
   "pygments_lexer": "ipython3",
   "version": "3.6.1"
  }
 },
 "nbformat": 4,
 "nbformat_minor": 1
}
