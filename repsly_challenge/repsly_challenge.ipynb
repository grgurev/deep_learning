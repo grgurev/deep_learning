{
 "cells": [
  {
   "cell_type": "markdown",
   "metadata": {},
   "source": [
    "# Repsly trial data"
   ]
  },
  {
   "cell_type": "code",
   "execution_count": 1,
   "metadata": {
    "collapsed": true
   },
   "outputs": [],
   "source": [
    "from repsly_data import RepslyData\n",
    "\n",
    "repsly_data = RepslyData()"
   ]
  },
  {
   "cell_type": "markdown",
   "metadata": {},
   "source": [
    "## Fully connected stuff"
   ]
  },
  {
   "cell_type": "code",
   "execution_count": 2,
   "metadata": {},
   "outputs": [
    {
     "name": "stdout",
     "output_type": "stream",
     "text": [
      "Reading data (this might take a minute or so)...done.\n"
     ]
    }
   ],
   "source": [
    "mode = 'FC'\n",
    "\n",
    "print('Reading data (this might take a minute or so)...', end='')\n",
    "repsly_data.read_data('data/trial_users_analysis.csv', mode)\n",
    "print('done.')"
   ]
  },
  {
   "cell_type": "markdown",
   "metadata": {},
   "source": [
    "Let's see what the data looks like:"
   ]
  },
  {
   "cell_type": "code",
   "execution_count": 3,
   "metadata": {},
   "outputs": [
    {
     "name": "stdout",
     "output_type": "stream",
     "text": [
      "X[16, 241]: [[ 153.    1.    1. ...,    0.    0.    0.]\n",
      " [ 224.    0.    0. ...,    0.    0.    0.]\n",
      " [  54.    0.    0. ...,    0.    0.    0.]\n",
      " ..., \n",
      " [ 448.    0.    0. ...,    0.    0.    0.]\n",
      " [  52.    0.    0. ...,    0.    0.    0.]\n",
      " [ 194.    0.    0. ...,    0.    0.    0.]]\n",
      "X[0]: [ 153.    1.    1.    0.    0.    0.    0.    0.    0.    0.    0.    0.\n",
      "    0.    0.    0.    7.    0.    0.    0.    0.    0.    0.    0.    0.\n",
      "    0.    0.    0.    0.    0.    0.    0.    0.    0.    0.    0.    0.\n",
      "    0.    0.    0.    0.    0.    0.    0.    0.    0.    0.    0.    0.\n",
      "    0.    0.    0.    0.    0.    0.    0.    0.    0.    0.    0.    0.\n",
      "    0.    0.    0.    0.    0.    0.    0.    0.    0.    0.    0.    0.\n",
      "    0.    0.    0.    0.    0.    0.    0.    0.    0.    0.    0.    0.\n",
      "    0.    0.    0.    0.    0.    0.    0.    0.    0.    0.    0.    0.\n",
      "    0.    0.    0.    0.    0.    0.    0.    0.    0.    0.    0.    0.\n",
      "    0.    0.    0.    0.    0.    0.    0.    0.    0.    0.    0.    0.\n",
      "    0.    0.    0.    0.    0.    0.    0.    0.    0.    0.    0.    0.\n",
      "    0.    0.    0.    0.    0.    0.    0.    0.    0.    0.    0.    0.\n",
      "    0.    0.    0.    0.    0.    0.    0.    0.    0.    0.    0.    0.\n",
      "    0.    0.    0.    0.    0.    0.    0.    0.    0.    0.    0.    0.\n",
      "    0.    0.    0.    0.    0.    0.    0.    0.    0.    0.    0.    0.\n",
      "    0.    0.    0.    0.    0.    0.    0.    0.    0.    0.    0.    0.\n",
      "    0.    0.    0.    0.    0.    0.    0.    0.    0.    0.    0.    0.\n",
      "    0.    0.    0.    0.    0.    0.    0.    0.    0.    0.    0.    0.\n",
      "    0.    0.    0.    0.    0.    0.    0.    0.    0.    0.    0.    0.\n",
      "    0.    0.    0.    0.    0.    0.    0.    0.    0.    0.    0.    0.\n",
      "    0.]\n",
      "y: [0 0 0 0 0 0 0 1 1 0 0 0 0 0 0 0]\n"
     ]
    }
   ],
   "source": [
    "read_batch = repsly_data.read_batch(batch_size=16)\n",
    "\n",
    "X, y = next(read_batch)\n",
    "print('X{}: {}'.format(list(X.shape), X))\n",
    "print('X[0]: {}'.format(X[0]))\n",
    "\n",
    "print('y:', y)"
   ]
  },
  {
   "cell_type": "markdown",
   "metadata": {},
   "source": [
    "As you can see above, each input vector `X` has `1+15*16=241` values, most of which are zeros. The first one is the trial start date as offset from 2016-01-01 and the rest is different usage parameters for the following 16 days. Data provided by batch read is randomly shuffled. Output values are stored in `y` and they represent if the user purchased the Repsly service after the trial or not."
   ]
  },
  {
   "cell_type": "markdown",
   "metadata": {
    "collapsed": true
   },
   "source": [
    "## 2D data suitable for convolution"
   ]
  },
  {
   "cell_type": "code",
   "execution_count": 4,
   "metadata": {},
   "outputs": [
    {
     "name": "stdout",
     "output_type": "stream",
     "text": [
      "Reading data (this might take a minute or so)...done.\n"
     ]
    }
   ],
   "source": [
    "mode = 'CONV'\n",
    "\n",
    "print('Reading data (this might take a minute or so)...', end='')\n",
    "repsly_data.read_data('data/trial_users_analysis.csv', mode)\n",
    "print('done.')"
   ]
  },
  {
   "cell_type": "code",
   "execution_count": 5,
   "metadata": {},
   "outputs": [
    {
     "name": "stdout",
     "output_type": "stream",
     "text": [
      "X[10, 16, 16]: [[[ 153.    1.    1. ...,    0.    0.    7.]\n",
      "  [ 153.    0.    0. ...,    0.    0.    0.]\n",
      "  [ 153.    0.    0. ...,    0.    0.    0.]\n",
      "  ..., \n",
      "  [ 153.    0.    0. ...,    0.    0.    0.]\n",
      "  [ 153.    0.    0. ...,    0.    0.    0.]\n",
      "  [ 153.    0.    0. ...,    0.    0.    0.]]\n",
      "\n",
      " [[ 224.    0.    0. ...,    0.    0.    0.]\n",
      "  [ 224.    0.    0. ...,    0.    0.    0.]\n",
      "  [ 224.    0.    0. ...,    0.    0.    0.]\n",
      "  ..., \n",
      "  [ 224.    0.    0. ...,    0.    0.    0.]\n",
      "  [ 224.    0.    0. ...,    0.    0.    0.]\n",
      "  [ 224.    0.    0. ...,    0.    0.    0.]]\n",
      "\n",
      " [[  54.    0.    0. ...,    0.    0.    0.]\n",
      "  [  54.    0.    0. ...,    0.    0.    0.]\n",
      "  [  54.    0.    0. ...,    0.    0.    0.]\n",
      "  ..., \n",
      "  [  54.    0.    0. ...,    0.    0.    0.]\n",
      "  [  54.    0.    0. ...,    0.    0.    0.]\n",
      "  [  54.    0.    0. ...,    0.    0.    0.]]\n",
      "\n",
      " ..., \n",
      " [[ 319.    1.   24. ...,    0.    0.    0.]\n",
      "  [ 319.    1.   21. ...,    0.    0.    0.]\n",
      "  [ 319.    1.    3. ...,    0.    0.    0.]\n",
      "  ..., \n",
      "  [ 319.    1.    7. ...,    0.    0.    0.]\n",
      "  [ 319.    1.    4. ...,    0.    0.    0.]\n",
      "  [ 319.    1.    5. ...,    0.    0.    0.]]\n",
      "\n",
      " [[ 179.    2.    1. ...,    0.    0.    0.]\n",
      "  [ 179.    0.    0. ...,    0.    0.    0.]\n",
      "  [ 179.    0.    0. ...,    0.    0.    0.]\n",
      "  ..., \n",
      "  [ 179.    1.    2. ...,    2.    2.    0.]\n",
      "  [ 179.    1.    4. ...,    2.    2.    0.]\n",
      "  [ 179.    0.    0. ...,    0.    0.    0.]]\n",
      "\n",
      " [[ 146.    0.    0. ...,    0.    0.    0.]\n",
      "  [ 146.    0.    0. ...,    0.    0.    0.]\n",
      "  [ 146.    0.    0. ...,    0.    0.    0.]\n",
      "  ..., \n",
      "  [ 146.    0.    0. ...,    0.    0.    0.]\n",
      "  [ 146.    0.    0. ...,    0.    0.    0.]\n",
      "  [ 146.    0.    0. ...,    0.    0.    0.]]]\n",
      "X[0]: [[ 153.    1.    1.    0.    0.    0.    0.    0.    0.    0.    0.    0.\n",
      "     0.    0.    0.    7.]\n",
      " [ 153.    0.    0.    0.    0.    0.    0.    0.    0.    0.    0.    0.\n",
      "     0.    0.    0.    0.]\n",
      " [ 153.    0.    0.    0.    0.    0.    0.    0.    0.    0.    0.    0.\n",
      "     0.    0.    0.    0.]\n",
      " [ 153.    0.    0.    0.    0.    0.    0.    0.    0.    0.    0.    0.\n",
      "     0.    0.    0.    0.]\n",
      " [ 153.    0.    0.    0.    0.    0.    0.    0.    0.    0.    0.    0.\n",
      "     0.    0.    0.    0.]\n",
      " [ 153.    0.    0.    0.    0.    0.    0.    0.    0.    0.    0.    0.\n",
      "     0.    0.    0.    0.]\n",
      " [ 153.    0.    0.    0.    0.    0.    0.    0.    0.    0.    0.    0.\n",
      "     0.    0.    0.    0.]\n",
      " [ 153.    0.    0.    0.    0.    0.    0.    0.    0.    0.    0.    0.\n",
      "     0.    0.    0.    0.]\n",
      " [ 153.    0.    0.    0.    0.    0.    0.    0.    0.    0.    0.    0.\n",
      "     0.    0.    0.    0.]\n",
      " [ 153.    0.    0.    0.    0.    0.    0.    0.    0.    0.    0.    0.\n",
      "     0.    0.    0.    0.]\n",
      " [ 153.    0.    0.    0.    0.    0.    0.    0.    0.    0.    0.    0.\n",
      "     0.    0.    0.    0.]\n",
      " [ 153.    0.    0.    0.    0.    0.    0.    0.    0.    0.    0.    0.\n",
      "     0.    0.    0.    0.]\n",
      " [ 153.    0.    0.    0.    0.    0.    0.    0.    0.    0.    0.    0.\n",
      "     0.    0.    0.    0.]\n",
      " [ 153.    0.    0.    0.    0.    0.    0.    0.    0.    0.    0.    0.\n",
      "     0.    0.    0.    0.]\n",
      " [ 153.    0.    0.    0.    0.    0.    0.    0.    0.    0.    0.    0.\n",
      "     0.    0.    0.    0.]\n",
      " [ 153.    0.    0.    0.    0.    0.    0.    0.    0.    0.    0.    0.\n",
      "     0.    0.    0.    0.]]\n",
      "y: [0 0 0 0 0 0 0 1 1 0]\n"
     ]
    }
   ],
   "source": [
    "read_batch = repsly_data.read_batch(batch_size=10)\n",
    "\n",
    "X, y = next(read_batch)\n",
    "print('X{}: {}'.format(list(X.shape), X))\n",
    "print('X[0]: {}'.format(X[0]))\n",
    "\n",
    "print('y:', y)"
   ]
  },
  {
   "cell_type": "code",
   "execution_count": null,
   "metadata": {
    "collapsed": true
   },
   "outputs": [],
   "source": []
  }
 ],
 "metadata": {
  "kernelspec": {
   "display_name": "Python 3",
   "language": "python",
   "name": "python3"
  },
  "language_info": {
   "codemirror_mode": {
    "name": "ipython",
    "version": 3
   },
   "file_extension": ".py",
   "mimetype": "text/x-python",
   "name": "python",
   "nbconvert_exporter": "python",
   "pygments_lexer": "ipython3",
   "version": "3.6.1"
  }
 },
 "nbformat": 4,
 "nbformat_minor": 1
}
