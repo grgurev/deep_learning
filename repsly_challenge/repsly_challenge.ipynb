{
 "cells": [
  {
   "cell_type": "markdown",
   "metadata": {
    "collapsed": true
   },
   "source": [
    "# Repsly trial data"
   ]
  },
  {
   "cell_type": "code",
   "execution_count": null,
   "metadata": {},
   "outputs": [],
   "source": [
    "from repsly_data import RepslyData\n",
    "\n",
    "repsly_data = RepslyData()\n",
    "print('Reading data (this might take a minute or so)...', end='')\n",
    "repsly_data.read_data('data/trial_users_analysis.csv', mode='FC')\n",
    "print('done.')"
   ]
  },
  {
   "cell_type": "markdown",
   "metadata": {},
   "source": [
    "\n",
    "Let's see what the data looks like:"
   ]
  },
  {
   "cell_type": "code",
   "execution_count": null,
   "metadata": {},
   "outputs": [],
   "source": [
    "read_batch = repsly_data.read_batch(batch_size=20)\n",
    "\n",
    "X, y = next(read_batch)\n",
    "print('X{}: {}'.format(list(X.shape), X))\n",
    "print('y:', y)"
   ]
  },
  {
   "cell_type": "markdown",
   "metadata": {},
   "source": [
    "As you can see above, each input vector `X` has `1+15*16=241` values, most of which are zeros. The first one is the trial start date as offset from `2016-01-01` and the rest is different usage parameters for the following `16` days. Data provided by batch read is randomly shuffled. Output values are stored in `y` and they represent if the user purchased the Repsly service after the trial or not."
   ]
  },
  {
   "cell_type": "markdown",
   "metadata": {},
   "source": [
    "# Training"
   ]
  },
  {
   "cell_type": "markdown",
   "metadata": {},
   "source": [
    "We will use Ensamble class for training and cross validation"
   ]
  },
  {
   "cell_type": "code",
   "execution_count": null,
   "metadata": {
    "collapsed": true
   },
   "outputs": [],
   "source": [
    "from repsly_nn import RepslyFC\n",
    "from ensamble import Ensamble\n",
    "\n",
    "ens = Ensamble()"
   ]
  },
  {
   "cell_type": "code",
   "execution_count": null,
   "metadata": {},
   "outputs": [],
   "source": [
    "arch = {\n",
    "        'no_of_layers': {'lin': (4, 8)},\n",
    "        'hidden_size': {'lin': (128, 384)},\n",
    "        'use_batch_norm': 'True',\n",
    "        'keep_prob': {'lin': (0.3, 0.70, 2)},\n",
    "        'input_keep_prob': {'lin': (0.65, 0.95, 2)},\n",
    "        'batch_norm_decay': 0.99 # {'inv-log': (0.9, 0.99, 2)},\n",
    "}\n",
    "learning_dict = {\n",
    "    'learning_rate': 0.001,\n",
    "    'decay_steps': 20,\n",
    "    'decay_rate': 0.99 #{'inv-log': (0.99, 0.999, 3)}\n",
    "}\n",
    "train_dict = {\n",
    "    'batch_size': 512,\n",
    "    'epochs': 100,\n",
    "    'skip_steps': 20\n",
    "}\n",
    "key='f1_score'\n",
    "\n",
    "no_of_nets = 5\n",
    "no_of_loops = 50\n",
    "\n",
    "for _ in range(no_of_loops):\n",
    "    ens.add_nets(RepslyFC, arch=arch, data=repsly_data, learning_dict=learning_dict, no_of_nets=no_of_nets)\n",
    "    ens.train_untrained(train_dict)\n",
    "    ens.print_stat_by_key('f1_score')\n"
   ]
  },
  {
   "cell_type": "markdown",
   "metadata": {},
   "source": [
    "We will train the best candidates a little bit more:"
   ]
  },
  {
   "cell_type": "code",
   "execution_count": null,
   "metadata": {},
   "outputs": [],
   "source": [
    "no_of_top_nets = 0\n",
    "no_of_loops = 0\n",
    "\n",
    "for _ in range(no_of_loops):\n",
    "    ens.train_top_nets_by_key_stat(key, no_of_top_nets, train_dict)\n",
    "    ens.print_stat_by_key('f1_score')"
   ]
  },
  {
   "cell_type": "code",
   "execution_count": null,
   "metadata": {},
   "outputs": [],
   "source": [
    "ens.print_stat_by_key('f1_score')"
   ]
  },
  {
   "cell_type": "code",
   "execution_count": null,
   "metadata": {},
   "outputs": [],
   "source": [
    "ens.print_stat_by_key('loss', reverse=True)"
   ]
  },
  {
   "cell_type": "code",
   "execution_count": null,
   "metadata": {
    "collapsed": true
   },
   "outputs": [],
   "source": []
  }
 ],
 "metadata": {
  "kernelspec": {
   "display_name": "Python 3",
   "language": "python",
   "name": "python3"
  },
  "language_info": {
   "codemirror_mode": {
    "name": "ipython",
    "version": 3
   },
   "file_extension": ".py",
   "mimetype": "text/x-python",
   "name": "python",
   "nbconvert_exporter": "python",
   "pygments_lexer": "ipython3",
   "version": "3.6.1"
  }
 },
 "nbformat": 4,
 "nbformat_minor": 1
}
