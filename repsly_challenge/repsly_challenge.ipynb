{
 "cells": [
  {
   "cell_type": "markdown",
   "metadata": {
    "collapsed": true
   },
   "source": [
    "# Repsly trial data"
   ]
  },
  {
   "cell_type": "code",
   "execution_count": null,
   "metadata": {},
   "outputs": [],
   "source": [
    "from repsly_data import RepslyData\n",
    "\n",
    "repsly_data = RepslyData()\n",
    "print('Reading data (this might take a minute or so)...', end='')\n",
    "repsly_data.read_data('data/trial_users_analysis.csv', mode='FC')\n",
    "print('done.')"
   ]
  },
  {
   "cell_type": "markdown",
   "metadata": {},
   "source": [
    "\n",
    "Let's see what the data looks like:"
   ]
  },
  {
   "cell_type": "code",
   "execution_count": null,
   "metadata": {},
   "outputs": [],
   "source": [
    "read_batch = repsly_data.read_batch(batch_size=20)\n",
    "\n",
    "X, y = next(read_batch)\n",
    "print('X{}: {}'.format(list(X.shape), X))\n",
    "print('y:', y)"
   ]
  },
  {
   "cell_type": "markdown",
   "metadata": {},
   "source": [
    "As you can see above, each input vector `X` has `1+15*16=241` values, most of which are zeros. The first one is the trial start date as offset from `2016-01-01` and the rest is different usage parameters for the following `16` days. Data provided by batch read is randomly shuffled. Output values are stored in `y` and they represent if the user purchased the Repsly service after the trial or not."
   ]
  },
  {
   "cell_type": "markdown",
   "metadata": {},
   "source": [
    "# Training"
   ]
  },
  {
   "cell_type": "markdown",
   "metadata": {},
   "source": [
    "First, we create a network with two fully connected hidden layers of size 250 and 50% dropout:"
   ]
  },
  {
   "cell_type": "code",
   "execution_count": null,
   "metadata": {
    "collapsed": true
   },
   "outputs": [],
   "source": [
    "from repsly_nn import RepslyFC\n",
    "\n",
    "repsly_nn = RepslyFC()"
   ]
  },
  {
   "cell_type": "markdown",
   "metadata": {},
   "source": [
    "Then we train it for some number of epochs. (NB. there is s bug with restoring checkpoint)"
   ]
  },
  {
   "cell_type": "code",
   "execution_count": null,
   "metadata": {},
   "outputs": [],
   "source": [
    "import numpy as np\n",
    "\n",
    "arch = [250, 250]\n",
    "\n",
    "keep_probs = np.linspace(0.4, 0.6, 11)\n",
    "input_keep_probs = np.linspace(0.7, 1.0, 11)\n",
    "\n",
    "learning_rate = 0.001\n",
    "decay_steps=10\n",
    "decay_rate=0.99\n",
    "\n",
    "batch_size = 1024\n",
    "epochs_loops = 1\n",
    "epochs_at_once = 400\n",
    "skip_steps=20\n",
    "\n",
    "stats = {}\n",
    "\n",
    "for keep_prob in keep_probs:\n",
    "    for input_keep_prob in input_keep_probs:\n",
    "        arch_dict = {'keep_prob': keep_prob, 'input_keep_prob': input_keep_prob}\n",
    "\n",
    "        repsly_nn.create_net(arch, arch_dict, learning_rate, decay_steps, decay_rate)\n",
    "        for i in range(epochs_loops):\n",
    "            print('Training for {} epochs...'.format(epochs_at_once))\n",
    "            stats[(keep_prob, input)] = repsly_nn.train(data=repsly_data, batch_size=batch_size, epochs=epochs_at_once, skip_steps=skip_steps)\n",
    "            print(stats[(keep_prob, input)])"
   ]
  },
  {
   "cell_type": "code",
   "execution_count": null,
   "metadata": {},
   "outputs": [],
   "source": [
    "print({key: stats[key]['f1_score'] for key in stats.keys()})"
   ]
  }
 ],
 "metadata": {
  "kernelspec": {
   "display_name": "Python 3",
   "language": "python",
   "name": "python3"
  },
  "language_info": {
   "codemirror_mode": {
    "name": "ipython",
    "version": 3
   },
   "file_extension": ".py",
   "mimetype": "text/x-python",
   "name": "python",
   "nbconvert_exporter": "python",
   "pygments_lexer": "ipython3",
   "version": "3.6.1"
  }
 },
 "nbformat": 4,
 "nbformat_minor": 1
}
