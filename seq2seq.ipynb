{
 "cells": [
  {
   "cell_type": "code",
   "execution_count": null,
   "metadata": {
    "collapsed": true
   },
   "outputs": [],
   "source": [
    "from seq2seq import Seq2Seq\n",
    "\n",
    "import tensorflow as tf\n",
    "import os\n"
   ]
  },
  {
   "cell_type": "code",
   "execution_count": null,
   "metadata": {
    "collapsed": true
   },
   "outputs": [],
   "source": [
    "# data stuff\n",
    "input_file = 'data/songs-utf-8.txt'\n",
    "assert(os.path.exists(input_file))"
   ]
  },
  {
   "cell_type": "code",
   "execution_count": null,
   "metadata": {},
   "outputs": [],
   "source": [
    "# batch generation parameters\n",
    "window_size = 128\n",
    "overlap_size = 0 # just ignore it, will be removed when I have time :)\n",
    "batch_size = 64\n",
    "\n",
    "# learning stuff\n",
    "lr = 0.001\n",
    "decay_steps = 20\n",
    "decay_rate=0.999\n",
    "skip_steps = 20\n",
    "\n",
    "# sampling temperature (higher values get more creative, but also generate more errors)\n",
    "temp = 0.7\n",
    "\n",
    "# for cross validation of number of neurons in hidden layer and number of stacked layers \n",
    "hs = [1, 2, 3, 4, 5]\n",
    "nsc = [384, 512, 768, 1024]\n",
    "\n",
    "# cross validate\n",
    "for no_stacked_cells in nsc:\n",
    "    for hidden_size in hs:\n",
    "        # clear everything that might be in the default graph from previous tests\n",
    "        tf.reset_default_graph()\n",
    "\n",
    "        # construction stuff\n",
    "        seq2seq = Seq2Seq(input_file=input_file,\n",
    "                          window_size=window_size,\n",
    "                          overlap_size=overlap_size,\n",
    "                          batch_size=batch_size,\n",
    "                          hidden_size=hidden_size,\n",
    "                          no_stacked_cells=no_stacked_cells)\n",
    "\n",
    "        seq2seq.create_net(learning_rate=learning_rate, decay_steps=decay_steps, decay_rate=decay_rate)\n",
    "        seq2seq.train(epochs=1, skip_steps=skip_steps, seed=['#'], temp=temp)\n"
   ]
  },
  {
   "cell_type": "code",
   "execution_count": null,
   "metadata": {
    "collapsed": true
   },
   "outputs": [],
   "source": []
  }
 ],
 "metadata": {
  "kernelspec": {
   "display_name": "Python 3",
   "language": "python",
   "name": "python3"
  },
  "language_info": {
   "codemirror_mode": {
    "name": "ipython",
    "version": 3
   },
   "file_extension": ".py",
   "mimetype": "text/x-python",
   "name": "python",
   "nbconvert_exporter": "python",
   "pygments_lexer": "ipython3",
   "version": "3.5.3"
  }
 },
 "nbformat": 4,
 "nbformat_minor": 1
}
